{
  "nbformat": 4,
  "nbformat_minor": 0,
  "metadata": {
    "colab": {
      "provenance": [],
      "authorship_tag": "ABX9TyMbTUBkJPt0WWnTDelSKr8U",
      "include_colab_link": true
    },
    "kernelspec": {
      "name": "python3",
      "display_name": "Python 3"
    },
    "language_info": {
      "name": "python"
    }
  },
  "cells": [
    {
      "cell_type": "markdown",
      "metadata": {
        "id": "view-in-github",
        "colab_type": "text"
      },
      "source": [
        "<a href=\"https://colab.research.google.com/github/edwinkuruvila10/Summer-Heat-Waves-Mobile-Alert-System/blob/main/Summer_Heat_Waves_Mobile_Alert_System.ipynb\" target=\"_parent\"><img src=\"https://colab.research.google.com/assets/colab-badge.svg\" alt=\"Open In Colab\"/></a>"
      ]
    },
    {
      "cell_type": "code",
      "source": [
        "import pandas as pd\n",
        "import numpy as np\n",
        "from sklearn.model_selection import train_test_split\n",
        "from sklearn.preprocessing import StandardScaler\n",
        "from sklearn.ensemble import RandomForestClassifier\n",
        "from sklearn.metrics import classification_report, accuracy_score\n",
        "import smtplib"
      ],
      "metadata": {
        "id": "XTAT-JYMogfB"
      },
      "execution_count": 2,
      "outputs": []
    },
    {
      "cell_type": "code",
      "source": [
        "data = pd.read_csv('weather.csv')  # Replace with the actual path to your data\n",
        "\n",
        "# Check for missing values\n",
        "print(data.isnull().sum())\n",
        "\n",
        "# Drop or fill missing values\n",
        "data.fillna(method='ffill', inplace=True)\n",
        "\n",
        "# Encoding categorical variables (like Wind Direction)\n",
        "data = pd.get_dummies(data, columns=['WindGustDir', 'WindDir9am', 'WindDir3pm'], drop_first=True)\n",
        "\n",
        "# Convert 'RainToday' and 'RainTomorrow' to binary variables\n",
        "data['RainToday'] = data['RainToday'].map({'No': 0, 'Yes': 1})\n",
        "data['RainTomorrow'] = data['RainTomorrow'].map({'No': 0, 'Yes': 1})\n",
        "\n",
        "data['HeatWave'] = np.where(data['MaxTemp'] > 35, 1, 0)"
      ],
      "metadata": {
        "id": "K8DLocpyogiA",
        "colab": {
          "base_uri": "https://localhost:8080/"
        },
        "outputId": "d995ab3c-8190-496d-8999-3c9645feb2bc"
      },
      "execution_count": 3,
      "outputs": [
        {
          "output_type": "stream",
          "name": "stdout",
          "text": [
            "MinTemp           0\n",
            "MaxTemp           0\n",
            "Rainfall          0\n",
            "Evaporation       0\n",
            "Sunshine          3\n",
            "WindGustDir       3\n",
            "WindGustSpeed     2\n",
            "WindDir9am       31\n",
            "WindDir3pm        1\n",
            "WindSpeed9am      7\n",
            "WindSpeed3pm      0\n",
            "Humidity9am       0\n",
            "Humidity3pm       0\n",
            "Pressure9am       0\n",
            "Pressure3pm       0\n",
            "Cloud9am          0\n",
            "Cloud3pm          0\n",
            "Temp9am           0\n",
            "Temp3pm           0\n",
            "RainToday         0\n",
            "RISK_MM           0\n",
            "RainTomorrow      0\n",
            "dtype: int64\n"
          ]
        },
        {
          "output_type": "stream",
          "name": "stderr",
          "text": [
            "<ipython-input-3-06edc1ccdf9b>:7: FutureWarning: DataFrame.fillna with 'method' is deprecated and will raise in a future version. Use obj.ffill() or obj.bfill() instead.\n",
            "  data.fillna(method='ffill', inplace=True)\n"
          ]
        }
      ]
    },
    {
      "cell_type": "code",
      "source": [
        "X = data.drop(columns=['MaxTemp', 'HeatWave', 'RainTomorrow'])\n",
        "y = data['HeatWave']\n",
        "\n",
        "X_train, X_test, y_train, y_test = train_test_split(X, y, test_size=0.2, random_state=42)\n",
        "\n",
        "scaler = StandardScaler()\n",
        "X_train = scaler.fit_transform(X_train)\n",
        "X_test = scaler.transform(X_test)"
      ],
      "metadata": {
        "id": "KPGCWemuogkI"
      },
      "execution_count": 4,
      "outputs": []
    },
    {
      "cell_type": "code",
      "source": [
        "model = RandomForestClassifier(n_estimators=100, random_state=42)\n",
        "\n",
        "model.fit(X_train, y_train)\n",
        "\n",
        "y_pred = model.predict(X_test)\n",
        "\n",
        "print(\"Accuracy:\", accuracy_score(y_test, y_pred))\n",
        "print(classification_report(y_test, y_pred))"
      ],
      "metadata": {
        "colab": {
          "base_uri": "https://localhost:8080/"
        },
        "id": "VsEVs_idEDZS",
        "outputId": "7f97d63e-3724-43d7-bf14-c1ee37c4f387"
      },
      "execution_count": 5,
      "outputs": [
        {
          "output_type": "stream",
          "name": "stdout",
          "text": [
            "Accuracy: 0.9864864864864865\n",
            "              precision    recall  f1-score   support\n",
            "\n",
            "           0       0.99      1.00      0.99        73\n",
            "           1       0.00      0.00      0.00         1\n",
            "\n",
            "    accuracy                           0.99        74\n",
            "   macro avg       0.49      0.50      0.50        74\n",
            "weighted avg       0.97      0.99      0.98        74\n",
            "\n"
          ]
        },
        {
          "output_type": "stream",
          "name": "stderr",
          "text": [
            "/usr/local/lib/python3.10/dist-packages/sklearn/metrics/_classification.py:1531: UndefinedMetricWarning: Precision is ill-defined and being set to 0.0 in labels with no predicted samples. Use `zero_division` parameter to control this behavior.\n",
            "  _warn_prf(average, modifier, f\"{metric.capitalize()} is\", len(result))\n",
            "/usr/local/lib/python3.10/dist-packages/sklearn/metrics/_classification.py:1531: UndefinedMetricWarning: Precision is ill-defined and being set to 0.0 in labels with no predicted samples. Use `zero_division` parameter to control this behavior.\n",
            "  _warn_prf(average, modifier, f\"{metric.capitalize()} is\", len(result))\n",
            "/usr/local/lib/python3.10/dist-packages/sklearn/metrics/_classification.py:1531: UndefinedMetricWarning: Precision is ill-defined and being set to 0.0 in labels with no predicted samples. Use `zero_division` parameter to control this behavior.\n",
            "  _warn_prf(average, modifier, f\"{metric.capitalize()} is\", len(result))\n"
          ]
        }
      ]
    },
    {
      "cell_type": "code",
      "source": [
        "def send_alert(alert_message, to_email):\n",
        "    # Set up the email server (using Gmail as an example)\n",
        "    server = smtplib.SMTP('smtp.gmail.com', 587)\n",
        "    server.starttls()\n",
        "\n",
        "    # Login to the email account\n",
        "    sender_email = \"your_email@gmail.com\"\n",
        "    password = \"your_password\"\n",
        "    server.login(sender_email, password)\n",
        "\n",
        "    # Send the email\n",
        "    subject = \"Heatwave Alert!\"\n",
        "    message = f'Subject: {subject}\\n\\n{alert_message}'\n",
        "    server.sendmail(sender_email, to_email, message)\n",
        "    server.quit()\n",
        "\n",
        "# Trigger alerts for heatwaves\n",
        "for i in range(len(X_test)):\n",
        "    if y_pred[i] == 1:  # Heatwave predicted\n",
        "        alert_message = \"A heatwave is predicted for tomorrow. Stay safe and hydrated!\"\n",
        "        send_alert(alert_message, \"recipient_email@example.com\")"
      ],
      "metadata": {
        "id": "Wdjf8EcuEDcR"
      },
      "execution_count": 6,
      "outputs": []
    },
    {
      "cell_type": "code",
      "source": [
        "# data['MinTemp'].fillna(data['MinTemp'].mean(), inplace=True)\n",
        "# data['MaxTemp'].fillna(data['MaxTemp'].mean(), inplace=True)\n",
        "\n",
        "# The WindGustDir column was removed by get_dummies so these lines are not needed.\n",
        "# Fill missing values for categorical columns like wind direction with the mode\n",
        "# data['WindGustDir'].fillna(data['WindGustDir'].mode()[0], inplace=True)\n",
        "\n",
        "# For columns like RainToday, you can use forward fill if there's a temporal correlation\n",
        "# data['RainToday'].fillna(method='ffill', inplace=True)\n",
        "\n",
        "#The code in cell 3 already handles missing values so this entire cell is unnecessary"
      ],
      "metadata": {
        "id": "9moxMvWwEDkH"
      },
      "execution_count": 8,
      "outputs": []
    },
    {
      "cell_type": "code",
      "source": [
        "data['HeatIndex'] = 0.5 * (data['MaxTemp'] + data['Humidity3pm'])\n",
        "\n",
        "# Rolling Mean of temperature over 3 days to smooth data\n",
        "data['MaxTemp_3DayAvg'] = data['MaxTemp'].rolling(window=3).mean().fillna(data['MaxTemp'].mean())\n"
      ],
      "metadata": {
        "id": "50SuvJLqFA-U"
      },
      "execution_count": 9,
      "outputs": []
    },
    {
      "cell_type": "code",
      "source": [
        "from sklearn.ensemble import GradientBoostingClassifier\n",
        "from sklearn.model_selection import GridSearchCV\n",
        "\n",
        "# Initialize the model\n",
        "gb_model = GradientBoostingClassifier()\n",
        "\n",
        "# Set up hyperparameter grid for tuning\n",
        "param_grid = {\n",
        "    'n_estimators': [100, 200],\n",
        "    'learning_rate': [0.1, 0.05, 0.01],\n",
        "    'max_depth': [3, 5, 7],\n",
        "    'min_samples_split': [2, 5, 10],\n",
        "}\n",
        "\n",
        "# Grid search for best hyperparameters\n",
        "grid_search = GridSearchCV(gb_model, param_grid, cv=5, scoring='accuracy')\n",
        "grid_search.fit(X_train, y_train)\n",
        "\n",
        "# Best model and its parameters\n",
        "best_gb_model = grid_search.best_estimator_\n",
        "print(\"Best Parameters:\", grid_search.best_params_)\n",
        "\n",
        "# Make predictions with the best model\n",
        "y_pred_gb = best_gb_model.predict(X_test)\n",
        "\n",
        "# Evaluation\n",
        "print(\"Accuracy:\", accuracy_score(y_test, y_pred_gb))\n",
        "print(classification_report(y_test, y_pred_gb))\n"
      ],
      "metadata": {
        "colab": {
          "base_uri": "https://localhost:8080/"
        },
        "id": "wu3EPi4jFBHE",
        "outputId": "8f11589e-a1ae-4cb3-eee5-73b35edb4135"
      },
      "execution_count": 10,
      "outputs": [
        {
          "output_type": "stream",
          "name": "stderr",
          "text": [
            "/usr/local/lib/python3.10/dist-packages/sklearn/model_selection/_split.py:776: UserWarning: The least populated class in y has only 2 members, which is less than n_splits=5.\n",
            "  warnings.warn(\n"
          ]
        },
        {
          "output_type": "stream",
          "name": "stdout",
          "text": [
            "Best Parameters: {'learning_rate': 0.05, 'max_depth': 5, 'min_samples_split': 2, 'n_estimators': 100}\n",
            "Accuracy: 1.0\n",
            "              precision    recall  f1-score   support\n",
            "\n",
            "           0       1.00      1.00      1.00        73\n",
            "           1       1.00      1.00      1.00         1\n",
            "\n",
            "    accuracy                           1.00        74\n",
            "   macro avg       1.00      1.00      1.00        74\n",
            "weighted avg       1.00      1.00      1.00        74\n",
            "\n"
          ]
        }
      ]
    },
    {
      "cell_type": "markdown",
      "source": [],
      "metadata": {
        "id": "m05lmf-DlzIv"
      }
    }
  ]
}